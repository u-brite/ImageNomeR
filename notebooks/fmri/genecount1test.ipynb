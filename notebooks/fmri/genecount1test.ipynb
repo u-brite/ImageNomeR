{
 "cells": [
  {
   "cell_type": "code",
   "execution_count": 22,
   "id": "2374774e",
   "metadata": {},
   "outputs": [
    {
     "name": "stdout",
     "output_type": "stream",
     "text": [
      "(66023, 111)\n",
      "Complete\n"
     ]
    }
   ],
   "source": [
    "filedir = '/home/anton/Documents/Tulane/Hackathon'\n",
    "countName = f'{filedir}/GSE202295_gene_counts.txt'\n",
    "seriesName = f'{filedir}/GSE202295_series_matrix.txt'\n",
    "\n",
    "import re\n",
    "import numpy as np\n",
    "\n",
    "pat = re.compile('\".*\" \"(.*)\" \"(.*)\" (.*)')\n",
    "\n",
    "def parseCountsLine(line, pat):\n",
    "    res = pat.search(line)\n",
    "    try:\n",
    "        groups = res.groups()\n",
    "        counts = [int(c) for c in groups[2].split(' ')]\n",
    "        return (groups[0], groups[1], counts)\n",
    "    except Exception as e:\n",
    "        return None\n",
    "    \n",
    "countsAll = []\n",
    "countNames1 = []\n",
    "countNames2 = []\n",
    "\n",
    "with open(countName, 'r') as f:\n",
    "    for line in f.readlines():\n",
    "        res = parseCountsLine(line, pat)\n",
    "        if res is None:\n",
    "            continue\n",
    "        n1,n2,counts = res\n",
    "        countNames1.append(n1)\n",
    "        countNames2.append(n2)\n",
    "        countsAll.append(np.array(counts))\n",
    "        \n",
    "countsAll = np.stack(countsAll)\n",
    "print(countsAll.shape)\n",
    "print('Complete')"
   ]
  },
  {
   "cell_type": "code",
   "execution_count": 29,
   "id": "02917ecf",
   "metadata": {},
   "outputs": [
    {
     "name": "stdout",
     "output_type": "stream",
     "text": [
      "[True, True, True, False, False, False, True, True, False, False, False, True, True, True, True, True, True, False, False, False, True, True, True, False, False, False, True, True, True, False, False, False, True, True, True, False, False, False, True, True, True, False, False, False, True, True, True, False, False, False, True, True, True, False, False, False, True, True, True, False, False, False, True, True, True, False, False, False, True, True, True, False, False, False, True, True, True, False, False, False, True, True, True, False, False, False, True, True, True, False, False, True, True, True, True, True, True, False, False, False, True, True, True, True, True, False, False, False, True, True, True]\n"
     ]
    }
   ],
   "source": [
    "basalIdcs = []\n",
    "postIdcs = []\n",
    "recIdcs = []\n",
    "diag = None\n",
    "\n",
    "def parseSeriesLine(line):\n",
    "    global diag\n",
    "    parts = line.split('\\t')\n",
    "    if parts[0] == '!Sample_characteristics_ch1':\n",
    "        pat = re.compile('\"diagnosis: ([^\"]+)\".*')\n",
    "        if pat.search(parts[1]) is not None:\n",
    "            diag = [pat.search(d).groups()[0] == 'T2D' for d in parts[1:]]\n",
    "\n",
    "with open(seriesName, 'r') as f:\n",
    "    for line in f.readlines():\n",
    "        parseSeriesLine(line)\n",
    "        \n",
    "print(diag)"
   ]
  },
  {
   "cell_type": "code",
   "execution_count": null,
   "id": "a989eccc",
   "metadata": {},
   "outputs": [],
   "source": []
  }
 ],
 "metadata": {
  "kernelspec": {
   "display_name": "torch",
   "language": "python",
   "name": "torch"
  },
  "language_info": {
   "codemirror_mode": {
    "name": "ipython",
    "version": 3
   },
   "file_extension": ".py",
   "mimetype": "text/x-python",
   "name": "python",
   "nbconvert_exporter": "python",
   "pygments_lexer": "ipython3",
   "version": "3.7.12"
  }
 },
 "nbformat": 4,
 "nbformat_minor": 5
}
