{
 "cells": [
  {
   "cell_type": "code",
   "execution_count": 1,
   "id": "6858ade8",
   "metadata": {},
   "outputs": [
    {
     "name": "stdout",
     "output_type": "stream",
     "text": [
      "dict_keys(['FC-slim', 'subjNum2IdxMap', 'subjIdx2NumMap', 'groupsNormalDiagMap'])\n"
     ]
    }
   ],
   "source": [
    "import pickle\n",
    "\n",
    "fname = '/home/anton/Documents/Tulane/Hackathon/ImageNomeR/data/fmri-FC-slim.pkl'\n",
    "fmriDict = None\n",
    "\n",
    "with open(fname, 'rb') as f:\n",
    "    fmriDict = pickle.load(f)\n",
    "    \n",
    "print(fmriDict.keys())"
   ]
  },
  {
   "cell_type": "code",
   "execution_count": 2,
   "id": "c06929c0",
   "metadata": {},
   "outputs": [
    {
     "name": "stdout",
     "output_type": "stream",
     "text": [
      "33\n",
      "['007', '012', '014', '016', '018', '021', '022', '026', '030', '031', '032', '033', '034', '036', '042', '045', '047', '056', '058', '059', '060', '061', '064', '066', '068', '069', '070', '072', '073', '074', '075', '076', '077']\n",
      "33\n",
      "['002', '004', '005', '006', '008', '009', '010', '011', '013', '015', '017', '019', '020', '023', '024', '025', '028', '029', '037', '038', '039', '040', '043', '044', '046', '049', '050', '052', '053', '054', '055', '062', '063']\n"
     ]
    }
   ],
   "source": [
    "def getGroupIdcs(groupsMap):\n",
    "    normals = []\n",
    "    fibros = []\n",
    "    for num,diag in groupsMap.items():\n",
    "        if diag == 1:\n",
    "            normals.append(num)\n",
    "        else:\n",
    "            fibros.append(num)\n",
    "    return normals,fibros\n",
    "\n",
    "normals, fibros = getGroupIdcs(fmriDict['groupsNormalDiagMap'])\n",
    "\n",
    "print(len(normals))\n",
    "print(normals)\n",
    "print(len(fibros))\n",
    "print(fibros)"
   ]
  },
  {
   "cell_type": "code",
   "execution_count": 3,
   "id": "f1799ab4",
   "metadata": {},
   "outputs": [
    {
     "name": "stdout",
     "output_type": "stream",
     "text": [
      "(68, 34716)\n"
     ]
    }
   ],
   "source": [
    "print(fmriDict['FC-slim'].shape)"
   ]
  },
  {
   "cell_type": "code",
   "execution_count": 122,
   "id": "de022b31",
   "metadata": {},
   "outputs": [
    {
     "name": "stdout",
     "output_type": "stream",
     "text": [
      "(50, 34716)\n",
      "(16, 34716)\n",
      "(50,)\n",
      "(16,)\n"
     ]
    }
   ],
   "source": [
    "import random\n",
    "import numpy as np\n",
    "\n",
    "FCslim = fmriDict['FC-slim']\n",
    "subjNum2Idx = fmriDict['subjNum2IdxMap']\n",
    "\n",
    "random.shuffle(normals)\n",
    "random.shuffle(fibros)\n",
    "\n",
    "normalTrain = normals[:25]\n",
    "normalTest = normals[25:]\n",
    "\n",
    "fibrosTrain = fibros[:25]\n",
    "fibrosTest = fibros[25:]\n",
    "\n",
    "train = normalTrain + fibrosTrain\n",
    "test = normalTest + fibrosTest\n",
    "\n",
    "Xtrain = [FCslim[subjNum2Idx[num]] for num in train]\n",
    "Xtest = [FCslim[subjNum2Idx[num]] for num in test]\n",
    "\n",
    "Xtrain = np.stack(Xtrain)\n",
    "Xtest = np.stack(Xtest)\n",
    "\n",
    "ytrain = np.concatenate([np.ones(25), np.zeros(25)])\n",
    "ytest = np.concatenate([np.ones(8), np.zeros(8)])\n",
    "\n",
    "print(Xtrain.shape)\n",
    "print(Xtest.shape)\n",
    "print(ytrain.shape)\n",
    "print(ytest.shape)"
   ]
  },
  {
   "cell_type": "code",
   "execution_count": 123,
   "id": "f594650e",
   "metadata": {},
   "outputs": [
    {
     "name": "stdout",
     "output_type": "stream",
     "text": [
      "[1. 1. 0. 1. 1. 1. 1. 1. 0. 0. 0. 0. 0. 0. 0. 1.]\n",
      "0.875\n"
     ]
    }
   ],
   "source": [
    "# Run a simple analysis\n",
    "\n",
    "from sklearn.linear_model import LogisticRegression\n",
    "\n",
    "clf = LogisticRegression(max_iter=5000, C=0.001).fit(Xtrain, ytrain)\n",
    "# clf = LogisticRegression(max_iter=5000, C=0.1, solver='saga', penalty='elasticnet', l1_ratio=0.1).fit(Xtrain, ytrain)\n",
    "yhat = clf.predict(Xtest)\n",
    "print(yhat)\n",
    "print(sum(yhat == ytest)/len(ytest))"
   ]
  },
  {
   "cell_type": "code",
   "execution_count": 10,
   "id": "4829bea5",
   "metadata": {},
   "outputs": [
    {
     "name": "stdout",
     "output_type": "stream",
     "text": [
      "['0-1', '0-2', '0-3', '0-4', '0-5', '0-6', '0-7', '0-8', '0-9', '0-10']\n",
      "['259-260', '259-261', '259-262', '259-263', '260-261', '260-262', '260-263', '261-262', '261-263', '262-263']\n"
     ]
    }
   ],
   "source": [
    "a,b = np.triu_indices(264,1)\n",
    "idcs = np.arange(34716)\n",
    "\n",
    "labels = [f'{a[i]}-{b[i]}' for i in idcs]\n",
    "\n",
    "print(labels[0:10])\n",
    "print(labels[-10:])"
   ]
  },
  {
   "cell_type": "code",
   "execution_count": 124,
   "id": "13e17b8e",
   "metadata": {},
   "outputs": [
    {
     "name": "stdout",
     "output_type": "stream",
     "text": [
      "1176536\n"
     ]
    }
   ],
   "source": [
    "import json\n",
    "\n",
    "jsonCompare = 'normal(1) vs. fibromyalgia(0)'\n",
    "jsonAccuracy = sum(yhat == ytest)/len(ytest)\n",
    "jsonTrain = [25,25]\n",
    "jsonTest = [8,8]\n",
    "jsonWeights = clf.coef_.squeeze()\n",
    "# jsonWeights = base64.b64encode(jsonWeights)\n",
    "jsonLabels = labels\n",
    "\n",
    "jsonObj = {\n",
    "    'Compare': jsonCompare,\n",
    "    'Model': 'Logistic Regression',\n",
    "    'Accuracy': jsonAccuracy,\n",
    "    'Train': jsonTrain,\n",
    "    'Test': jsonTest,\n",
    "    'Weights': list(jsonWeights),\n",
    "    'Labels': jsonLabels\n",
    "}\n",
    "\n",
    "print(len(json.dumps(jsonObj)))"
   ]
  },
  {
   "cell_type": "code",
   "execution_count": 12,
   "id": "8b65c46d",
   "metadata": {},
   "outputs": [],
   "source": [
    "# import pickle\n",
    "\n",
    "# jsonFilename = '/home/anton/Documents/Tulane/Hackathon/ImageNomeR/data/dummyFmri1.json'\n",
    "\n",
    "# with open(jsonFilename, 'w') as f:\n",
    "#     json.dump(jsonObj, f)\n",
    "    \n",
    "# print('Complete')"
   ]
  },
  {
   "cell_type": "code",
   "execution_count": 80,
   "id": "d1e1fb24",
   "metadata": {},
   "outputs": [],
   "source": [
    "import sys\n",
    "\n",
    "sys.path.append('/home/anton/Documents/Tulane/Hackathon/ImageNomeR/src')\n",
    "\n",
    "from imagenomer import Analysis, JsonData, JsonSubjects, JsonFCMetadata"
   ]
  },
  {
   "cell_type": "code",
   "execution_count": 82,
   "id": "498d4cbd",
   "metadata": {},
   "outputs": [
    {
     "name": "stdout",
     "output_type": "stream",
     "text": [
      "b'Success'\n"
     ]
    }
   ],
   "source": [
    "an1 = Analysis('test','localhost')\n",
    "dat1 = JsonData(an1)\n",
    "dat1.dict.update(jsonObj)\n",
    "#dat1.pack()\n",
    "r = dat1.post()\n",
    "print(r.content)\n"
   ]
  },
  {
   "cell_type": "code",
   "execution_count": 125,
   "id": "c4d027ef",
   "metadata": {},
   "outputs": [
    {
     "name": "stdout",
     "output_type": "stream",
     "text": [
      "b'Success'\n"
     ]
    }
   ],
   "source": [
    "dat2 = JsonData(an1)\n",
    "dat2.update(jsonObj)\n",
    "r = dat2.post()\n",
    "print(r.content)"
   ]
  },
  {
   "cell_type": "code",
   "execution_count": 21,
   "id": "06899765",
   "metadata": {},
   "outputs": [
    {
     "name": "stdout",
     "output_type": "stream",
     "text": [
      "b'no such id fc2fcd15-a997-4511-a7c9-4b030ba3c9f5'\n"
     ]
    }
   ],
   "source": [
    "import requests\n",
    "\n",
    "headers = {\"Content-Type\": \"application/json\", \"User-Agent\": \"Mozilla/5.0 (Windows NT 10.0; Win64; x64)\"}\n",
    "r = requests.get('http://localhost/data?id=fc2fcd15-a997-4511-a7c9-4b030ba3c9f5&runid=1', headers=headers)\n",
    "print(r.content)"
   ]
  },
  {
   "cell_type": "code",
   "execution_count": 22,
   "id": "41bb2b9e",
   "metadata": {},
   "outputs": [
    {
     "name": "stdout",
     "output_type": "stream",
     "text": [
      "b'Success'\n"
     ]
    }
   ],
   "source": [
    "jsonSubjs = JsonSubjects(an1)\n",
    "subjDict = {'IDs': normals+fibros, \n",
    "            'Features': [list(FCslim[subjNum2Idx[num]]) for num in normals+fibros],\n",
    "            'Groups': ([1]*len(normals))+([0]*len(fibros))}\n",
    "jsonSubjs.update(subjDict)\n",
    "r = jsonSubjs.post()\n",
    "print(r.content)"
   ]
  },
  {
   "cell_type": "code",
   "execution_count": 23,
   "id": "0dc0d021",
   "metadata": {},
   "outputs": [
    {
     "name": "stdout",
     "output_type": "stream",
     "text": [
      "{0: 13, 1: 13, 2: 13, 3: 13, 4: 13, 5: 13, 6: 13, 7: 13, 8: 13, 9: 13, 10: 13, 11: 13, 12: 0, 13: 0, 14: 0, 15: 0, 16: 0, 17: 0, 18: 0, 19: 0, 20: 0, 21: 0, 22: 0, 23: 0, 24: 0, 25: 0, 26: 0, 27: 0, 28: 0, 29: 0, 30: 0, 31: 0, 32: 0, 33: 0, 34: 0, 35: 0, 36: 0, 37: 0, 38: 0, 39: 0, 40: 0, 41: 1, 42: 1, 43: 1, 44: 1, 45: 1, 46: 2, 47: 2, 48: 2, 49: 2, 50: 2, 51: 2, 52: 2, 53: 2, 54: 2, 55: 2, 56: 2, 57: 2, 58: 2, 59: 2, 60: 3, 61: 3, 62: 3, 63: 3, 64: 3, 65: 3, 66: 3, 67: 3, 68: 3, 69: 3, 70: 3, 71: 3, 72: 3, 73: 4, 74: 4, 75: 4, 76: 4, 77: 4, 78: 4, 79: 4, 80: 4, 81: 4, 82: 4, 83: 13, 84: 13, 85: 4, 86: 4, 87: 4, 88: 4, 89: 4, 90: 4, 91: 4, 92: 4, 93: 4, 94: 4, 95: 4, 96: 4, 97: 4, 98: 4, 99: 4, 100: 4, 101: 4, 102: 4, 103: 4, 104: 4, 105: 4, 106: 4, 107: 4, 108: 4, 109: 4, 110: 4, 111: 4, 112: 4, 113: 4, 114: 4, 115: 4, 116: 4, 117: 4, 118: 4, 119: 4, 120: 4, 121: 4, 122: 4, 123: 4, 124: 4, 125: 4, 126: 4, 127: 4, 128: 4, 129: 4, 130: 4, 131: 13, 132: 5, 133: 5, 134: 5, 135: 5, 136: 4, 137: 10, 138: 4, 139: 13, 140: 13, 141: 13, 142: 6, 143: 6, 144: 6, 145: 6, 146: 6, 147: 6, 148: 6, 149: 6, 150: 6, 151: 6, 152: 6, 153: 6, 154: 6, 155: 6, 156: 6, 157: 6, 158: 6, 159: 6, 160: 6, 161: 6, 162: 6, 163: 6, 164: 6, 165: 6, 166: 6, 167: 6, 168: 6, 169: 6, 170: 6, 171: 6, 172: 6, 173: 7, 174: 7, 175: 7, 176: 7, 177: 7, 178: 7, 179: 7, 180: 7, 181: 13, 182: 13, 183: 13, 184: 13, 185: 7, 186: 7, 187: 7, 188: 7, 189: 7, 190: 7, 191: 7, 192: 7, 193: 7, 194: 7, 195: 7, 196: 7, 197: 7, 198: 7, 199: 7, 200: 7, 201: 7, 202: 8, 203: 8, 204: 8, 205: 8, 206: 8, 207: 8, 208: 8, 209: 8, 210: 8, 211: 8, 212: 8, 213: 8, 214: 8, 215: 8, 216: 8, 217: 8, 218: 8, 219: 8, 220: 5, 221: 9, 222: 9, 223: 9, 224: 9, 225: 9, 226: 9, 227: 9, 228: 9, 229: 9, 230: 9, 231: 9, 232: 9, 233: 9, 234: 10, 235: 10, 236: 10, 237: 10, 238: 10, 239: 10, 240: 10, 241: 10, 242: 12, 243: 12, 244: 12, 245: 12, 246: 13, 247: 13, 248: 13, 249: 13, 250: 11, 251: 11, 252: 13, 253: 13, 254: 0, 255: 11, 256: 11, 257: 11, 258: 11, 259: 11, 260: 11, 261: 11, 262: 11, 263: 11}\n"
     ]
    }
   ],
   "source": [
    "commNames = []\n",
    "commAffil = {}\n",
    "commAbrev = ['SMH,SMM,CNG,AUD,DMN,MEM,VIS,FRT,SAL,SUB,VTR,DRL,CB,UNK']\n",
    "\n",
    "powerAffilFname = '/home/anton/Documents/Tulane/Hackathon/ImageNomeR/power/power264CommunityAffiliation.1D'\n",
    "\n",
    "with open(powerAffilFname, 'r') as f:\n",
    "    for i,line in enumerate(f.readlines()):\n",
    "        commAffil[i] = int(line)-1\n",
    "        \n",
    "print(commAffil)"
   ]
  },
  {
   "cell_type": "code",
   "execution_count": 25,
   "id": "ef80ffea",
   "metadata": {
    "scrolled": true
   },
   "outputs": [
    {
     "name": "stdout",
     "output_type": "stream",
     "text": [
      "b'Success'\n"
     ]
    }
   ],
   "source": [
    "jsonMeta = JsonFCMetadata(an1)\n",
    "metaDict = {\n",
    "    'CommunityMap': commAffil,\n",
    "    'CommunityNames': commAbrev\n",
    "}\n",
    "jsonMeta.update(metaDict)\n",
    "r = jsonMeta.post()\n",
    "print(r.content)"
   ]
  },
  {
   "cell_type": "code",
   "execution_count": null,
   "id": "dc5a9fea",
   "metadata": {},
   "outputs": [],
   "source": []
  }
 ],
 "metadata": {
  "kernelspec": {
   "display_name": "Python 3 (ipykernel)",
   "language": "python",
   "name": "python3"
  },
  "language_info": {
   "codemirror_mode": {
    "name": "ipython",
    "version": 3
   },
   "file_extension": ".py",
   "mimetype": "text/x-python",
   "name": "python",
   "nbconvert_exporter": "python",
   "pygments_lexer": "ipython3",
   "version": "3.10.5"
  }
 },
 "nbformat": 4,
 "nbformat_minor": 5
}
