{
 "cells": [
  {
   "cell_type": "code",
   "execution_count": 1,
   "id": "6858ade8",
   "metadata": {},
   "outputs": [
    {
     "name": "stdout",
     "output_type": "stream",
     "text": [
      "dict_keys(['FC-slim', 'subjNum2IdxMap', 'subjIdx2NumMap', 'groupsNormalDiagMap'])\n"
     ]
    }
   ],
   "source": [
    "import pickle\n",
    "\n",
    "fname = '/home/anton/Documents/Tulane/Hackathon/ImageNomeR/data/fmri-FC-slim.pkl'\n",
    "fmriDict = None\n",
    "\n",
    "with open(fname, 'rb') as f:\n",
    "    fmriDict = pickle.load(f)\n",
    "    \n",
    "print(fmriDict.keys())"
   ]
  },
  {
   "cell_type": "code",
   "execution_count": 6,
   "id": "c06929c0",
   "metadata": {},
   "outputs": [
    {
     "name": "stdout",
     "output_type": "stream",
     "text": [
      "33\n",
      "['007', '012', '014', '016', '018', '021', '022', '026', '030', '031', '032', '033', '034', '036', '042', '045', '047', '056', '058', '059', '060', '061', '064', '066', '068', '069', '070', '072', '073', '074', '075', '076', '077']\n",
      "33\n",
      "['002', '004', '005', '006', '008', '009', '010', '011', '013', '015', '017', '019', '020', '023', '024', '025', '028', '029', '037', '038', '039', '040', '043', '044', '046', '049', '050', '052', '053', '054', '055', '062', '063']\n"
     ]
    }
   ],
   "source": [
    "def getGroupIdcs(groupsMap):\n",
    "    normals = []\n",
    "    fibros = []\n",
    "    for num,diag in groupsMap.items():\n",
    "        if diag == 1:\n",
    "            normals.append(num)\n",
    "        else:\n",
    "            fibros.append(num)\n",
    "    return normals,fibros\n",
    "\n",
    "normals, fibros = getGroupIdcs(fmriDict['groupsNormalDiagMap'])\n",
    "\n",
    "print(len(normals))\n",
    "print(normals)\n",
    "print(len(fibros))\n",
    "print(fibros)"
   ]
  },
  {
   "cell_type": "code",
   "execution_count": 8,
   "id": "f1799ab4",
   "metadata": {},
   "outputs": [
    {
     "name": "stdout",
     "output_type": "stream",
     "text": [
      "(68, 34716)\n"
     ]
    }
   ],
   "source": [
    "print(fmriDict['FC-slim'].shape)"
   ]
  },
  {
   "cell_type": "code",
   "execution_count": 31,
   "id": "de022b31",
   "metadata": {},
   "outputs": [
    {
     "name": "stdout",
     "output_type": "stream",
     "text": [
      "(50, 34716)\n",
      "(16, 34716)\n",
      "(50,)\n",
      "(16,)\n"
     ]
    }
   ],
   "source": [
    "import random\n",
    "import numpy as np\n",
    "\n",
    "FCslim = fmriDict['FC-slim']\n",
    "subjNum2Idx = fmriDict['subjNum2IdxMap']\n",
    "\n",
    "random.shuffle(normals)\n",
    "random.shuffle(fibros)\n",
    "\n",
    "normalTrain = normals[:25]\n",
    "normalTest = normals[25:]\n",
    "\n",
    "fibrosTrain = fibros[:25]\n",
    "fibrosTest = fibros[25:]\n",
    "\n",
    "train = normalTrain + fibrosTrain\n",
    "test = normalTest + fibrosTest\n",
    "\n",
    "Xtrain = [FCslim[subjNum2Idx[num]] for num in train]\n",
    "Xtest = [FCslim[subjNum2Idx[num]] for num in test]\n",
    "\n",
    "Xtrain = np.stack(Xtrain)\n",
    "Xtest = np.stack(Xtest)\n",
    "\n",
    "ytrain = np.concatenate([np.ones(25), np.zeros(25)])\n",
    "ytest = np.concatenate([np.ones(8), np.zeros(8)])\n",
    "\n",
    "print(Xtrain.shape)\n",
    "print(Xtest.shape)\n",
    "print(ytrain.shape)\n",
    "print(ytest.shape)"
   ]
  },
  {
   "cell_type": "code",
   "execution_count": 32,
   "id": "f594650e",
   "metadata": {},
   "outputs": [
    {
     "name": "stdout",
     "output_type": "stream",
     "text": [
      "[0. 0. 0. 1. 1. 1. 1. 1. 0. 1. 0. 1. 0. 0. 0. 1.]\n",
      "0.625\n"
     ]
    }
   ],
   "source": [
    "# Run a simple analysis\n",
    "\n",
    "from sklearn.linear_model import LogisticRegression\n",
    "\n",
    "clf = LogisticRegression(max_iter=1000).fit(Xtrain, ytrain)\n",
    "yhat = clf.predict(Xtest)\n",
    "print(yhat)\n",
    "print(sum(yhat == ytest)/len(ytest))"
   ]
  },
  {
   "cell_type": "code",
   "execution_count": 33,
   "id": "4829bea5",
   "metadata": {},
   "outputs": [
    {
     "name": "stdout",
     "output_type": "stream",
     "text": [
      "['0-1', '0-2', '0-3', '0-4', '0-5', '0-6', '0-7', '0-8', '0-9', '0-10']\n",
      "['259-260', '259-261', '259-262', '259-263', '260-261', '260-262', '260-263', '261-262', '261-263', '262-263']\n"
     ]
    }
   ],
   "source": [
    "a,b = np.triu_indices(264,1)\n",
    "idcs = np.arange(34716)\n",
    "\n",
    "labels = [f'{a[i]}-{b[i]}' for i in idcs]\n",
    "\n",
    "print(labels[0:10])\n",
    "print(labels[-10:])"
   ]
  },
  {
   "cell_type": "code",
   "execution_count": 34,
   "id": "13e17b8e",
   "metadata": {},
   "outputs": [
    {
     "name": "stdout",
     "output_type": "stream",
     "text": [
      "1143007\n"
     ]
    }
   ],
   "source": [
    "import json\n",
    "\n",
    "jsonCompare = 'normal(1) vs. fibromyalgia(0)'\n",
    "jsonAccuracy = sum(yhat == ytest)/len(ytest)\n",
    "jsonTrain = [25,25]\n",
    "jsonTest = [8,8]\n",
    "jsonWeights = clf.coef_.squeeze()\n",
    "# jsonWeights = base64.b64encode(jsonWeights)\n",
    "jsonLabels = labels\n",
    "\n",
    "jsonObj = {\n",
    "    'Compare': jsonCompare,\n",
    "    'Model': 'Logistic Regression',\n",
    "    'Accuracy': jsonAccuracy,\n",
    "    'Train': jsonTrain,\n",
    "    'Test': jsonTest,\n",
    "    'Weights': list(jsonWeights),\n",
    "    'Labels': jsonLabels\n",
    "}\n",
    "\n",
    "print(len(json.dumps(jsonObj)))"
   ]
  },
  {
   "cell_type": "code",
   "execution_count": 37,
   "id": "8b65c46d",
   "metadata": {},
   "outputs": [
    {
     "name": "stdout",
     "output_type": "stream",
     "text": [
      "Complete\n"
     ]
    }
   ],
   "source": [
    "import pickle\n",
    "\n",
    "jsonFilename = '/home/anton/Documents/Tulane/Hackathon/ImageNomeR/data/dummyFmri1.json'\n",
    "\n",
    "with open(jsonFilename, 'w') as f:\n",
    "    json.dump(jsonObj, f)\n",
    "    \n",
    "print('Complete')"
   ]
  },
  {
   "cell_type": "code",
   "execution_count": null,
   "id": "d1e1fb24",
   "metadata": {},
   "outputs": [],
   "source": []
  }
 ],
 "metadata": {
  "kernelspec": {
   "display_name": "Python 3 (ipykernel)",
   "language": "python",
   "name": "python3"
  },
  "language_info": {
   "codemirror_mode": {
    "name": "ipython",
    "version": 3
   },
   "file_extension": ".py",
   "mimetype": "text/x-python",
   "name": "python",
   "nbconvert_exporter": "python",
   "pygments_lexer": "ipython3",
   "version": "3.10.5"
  }
 },
 "nbformat": 4,
 "nbformat_minor": 5
}
